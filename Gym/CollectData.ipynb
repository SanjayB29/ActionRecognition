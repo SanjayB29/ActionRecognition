{
 "cells": [
  {
   "cell_type": "code",
   "execution_count": 1,
   "metadata": {},
   "outputs": [
    {
     "name": "stdout",
     "output_type": "stream",
     "text": [
      "WARNING:tensorflow:From c:\\Users\\sanja\\AppData\\Local\\Programs\\Python\\Python311\\Lib\\site-packages\\keras\\src\\losses.py:2976: The name tf.losses.sparse_softmax_cross_entropy is deprecated. Please use tf.compat.v1.losses.sparse_softmax_cross_entropy instead.\n",
      "\n"
     ]
    }
   ],
   "source": [
    "import os\n",
    "import cv2\n",
    "import numpy as np\n",
    "import mediapipe as mp\n"
   ]
  },
  {
   "cell_type": "code",
   "execution_count": 2,
   "metadata": {},
   "outputs": [],
   "source": [
    "mp_pose = mp.solutions.pose\n",
    "mp_drawing = mp.solutions.drawing_utils\n",
    "\n",
    "def mediapipe_detection(image, model):\n",
    "    image = cv2.cvtColor(image, cv2.COLOR_BGR2RGB)\n",
    "    image.flags.writeable = False\n",
    "    results = model.process(image)\n",
    "    image.flags.writeable = True\n",
    "    image = cv2.cvtColor(image, cv2.COLOR_RGB2BGR)\n",
    "    return image, results\n",
    "\n",
    "def extract_keypoints(results):\n",
    "    pose = np.array([[res.x, res.y, res.z, res.visibility] for res in results.pose_landmarks.landmark]).flatten() if results.pose_landmarks else np.zeros(33*4)\n",
    "    return pose\n"
   ]
  },
  {
   "cell_type": "code",
   "execution_count": 3,
   "metadata": {},
   "outputs": [],
   "source": [
    "DATA_PATH = os.path.join('GYM_Data')\n",
    "exercises = ['curl_up', 'curl_down', 'squat_up', 'squat_down']\n",
    "no_sequences = 30\n",
    "sequence_length = 30\n",
    "\n",
    "for exercise in exercises:\n",
    "    for sequence in range(no_sequences):\n",
    "        os.makedirs(os.path.join(DATA_PATH, exercise, str(sequence)), exist_ok=True)\n"
   ]
  },
  {
   "cell_type": "code",
   "execution_count": 5,
   "metadata": {},
   "outputs": [],
   "source": [
    "cap = cv2.VideoCapture(0)\n",
    "\n",
    "# Initialize MediaPipe Pose model\n",
    "with mp_pose.Pose(min_detection_confidence=0.5, min_tracking_confidence=0.5) as pose:\n",
    "    for exercise in exercises:\n",
    "        for sequence in range(no_sequences):\n",
    "            # Add a buffer and display the class name being collected\n",
    "            # for buffer in range(2):\n",
    "            #     ret, frame = cap.read()\n",
    "            #     cv2.putText(frame, f'Collecting frames for {exercise} sequence {sequence}. Starting in {2-buffer} seconds...', \n",
    "            #                 (15, 25), \n",
    "            #                 cv2.FONT_HERSHEY_SIMPLEX, 0.5, (0, 255, 0), 1, cv2.LINE_AA)\n",
    "            #     cv2.imshow('Webcam Feed', frame)\n",
    "            #     cv2.waitKey(1000)  # Wait for 1 second\n",
    "\n",
    "            start_time = cv2.getTickCount()\n",
    "            for frame_num in range(sequence_length):\n",
    "                # Capture frames based on the time elapsed\n",
    "                while cv2.getTickCount() - start_time < (frame_num + 1) * cv2.getTickFrequency() / (sequence_length / 3):\n",
    "                    pass\n",
    "\n",
    "                ret, frame = cap.read()\n",
    "                image, results = mediapipe_detection(frame, pose)\n",
    "\n",
    "                # Draw the pose annotations on the image\n",
    "                if results.pose_landmarks:\n",
    "                    mp_drawing.draw_landmarks(image, results.pose_landmarks, mp_pose.POSE_CONNECTIONS)\n",
    "\n",
    "                keypoints = extract_keypoints(results)\n",
    "\n",
    "                # Save keypoints as a numpy file\n",
    "                npy_path = os.path.join(DATA_PATH, exercise, str(sequence), f\"{frame_num}.npy\")\n",
    "                np.save(npy_path, keypoints)\n",
    "\n",
    "                # Display the collecting status\n",
    "                cv2.putText(image, f'Collecting {exercise}, Seq {sequence}, Frame {frame_num}', \n",
    "                            (15, 25), \n",
    "                            cv2.FONT_HERSHEY_SIMPLEX, 0.5, (0, 255, 0), 1, cv2.LINE_AA)\n",
    "                cv2.imshow('Webcam Feed', image)\n",
    "\n",
    "                if cv2.waitKey(1) & 0xFF == ord('q'):\n",
    "                    break\n",
    "\n",
    "            if cv2.waitKey(1) & 0xFF == ord('q'):\n",
    "                break\n",
    "\n",
    "        if cv2.waitKey(1) & 0xFF == ord('q'):\n",
    "            break\n",
    "\n",
    "cap.release()\n",
    "cv2.destroyAllWindows()\n",
    "\n"
   ]
  },
  {
   "cell_type": "code",
   "execution_count": null,
   "metadata": {},
   "outputs": [],
   "source": []
  }
 ],
 "metadata": {
  "kernelspec": {
   "display_name": "Python 3",
   "language": "python",
   "name": "python3"
  },
  "language_info": {
   "codemirror_mode": {
    "name": "ipython",
    "version": 3
   },
   "file_extension": ".py",
   "mimetype": "text/x-python",
   "name": "python",
   "nbconvert_exporter": "python",
   "pygments_lexer": "ipython3",
   "version": "3.11.4"
  }
 },
 "nbformat": 4,
 "nbformat_minor": 2
}
